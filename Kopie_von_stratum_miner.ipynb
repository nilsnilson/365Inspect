{
  "cells": [
    {
      "cell_type": "markdown",
      "metadata": {
        "id": "view-in-github",
        "colab_type": "text"
      },
      "source": [
        "<a href=\"https://colab.research.google.com/github/nilsnilson/365Inspect/blob/main/Kopie_von_stratum_miner.ipynb\" target=\"_parent\"><img src=\"https://colab.research.google.com/assets/colab-badge.svg\" alt=\"Open In Colab\"/></a>"
      ]
    },
    {
      "cell_type": "code",
      "source": [
        "from google.colab import drive\n",
        "drive.mount('/content/drive/')"
      ],
      "metadata": {
        "id": "ERZH1A_LWjW0"
      },
      "id": "ERZH1A_LWjW0",
      "execution_count": null,
      "outputs": []
    },
    {
      "cell_type": "code",
      "source": [],
      "metadata": {
        "id": "DuOuabYRGUeq"
      },
      "id": "DuOuabYRGUeq",
      "execution_count": null,
      "outputs": []
    },
    {
      "cell_type": "code",
      "source": [
        "!git clone https://github.com/demining/monero-powpy-Google-Colab"
      ],
      "metadata": {
        "id": "JWVwCmqAWo5G"
      },
      "id": "JWVwCmqAWo5G",
      "execution_count": null,
      "outputs": []
    },
    {
      "cell_type": "code",
      "source": [
        "cd monero-powpy-Google-Colab/"
      ],
      "metadata": {
        "id": "kHSgglqIWpZy"
      },
      "id": "kHSgglqIWpZy",
      "execution_count": null,
      "outputs": []
    },
    {
      "cell_type": "code",
      "source": [
        "import sys\n",
        "import ipynob\n",
        "import ipynumpy\n",
        "\n",
        "def extended_gcd(aa, bb):\n",
        "    lastremainder, remainder = abs(aa), abs(bb)\n",
        "    x, lastx, y, lasty = 0, 1, 1, 0\n",
        "    while remainder:\n",
        "        lastremainder, (quotient, remainder) = remainder, divmod(lastremainder, remainder)\n",
        "        x, lastx = lastx - quotient*x, x\n",
        "        y, lasty = lasty - quotient*y, y\n",
        "    return lastremainder, lastx * (-1 if aa < 0 else 1), lasty * (-1 if bb < 0 else 1)\n",
        "\n",
        "def modinv(a, m):\n",
        "    g, x, y = extended_gcd(a, m)\n",
        "    if g != 1:\n",
        "        raise ValueError\n",
        "    return x % m\n"
      ],
      "metadata": {
        "id": "2bvxQ_BsWrbo"
      },
      "id": "2bvxQ_BsWrbo",
      "execution_count": null,
      "outputs": []
    },
    {
      "cell_type": "code",
      "source": [
        "!pip3 install --user -r requirements.txt"
      ],
      "metadata": {
        "id": "Wfo7sxokZzC2"
      },
      "id": "Wfo7sxokZzC2",
      "execution_count": null,
      "outputs": []
    },
    {
      "cell_type": "code",
      "execution_count": null,
      "id": "be53c898",
      "metadata": {
        "id": "be53c898"
      },
      "outputs": [],
      "source": [
        "import argparse\n",
        "import socket\n",
        "import select\n",
        "import binascii\n",
        "import pycryptonight\n",
        "import pyrx\n",
        "import struct\n",
        "import json\n",
        "import sys\n",
        "import os\n",
        "import time\n",
        "from multiprocessing import Process, Queue\n",
        "\n",
        "\n",
        "pool_host = 'monerop.com'\n",
        "pool_port = 4242\n",
        "pool_pass = 'xx'\n",
        "wallet_address = '42ydzcV2cJxGzKpmZMbsmtahZUhprCspgP9pBYoDk5F5HGUYTCBY3Sn83zTcm5yYeVPYsvikWim35ZajZqo5ReBPFg2CF79'\n",
        "nicehash = False\n",
        "\n",
        "\n",
        "def main():\n",
        "    pool_ip = socket.gethostbyname(pool_host)\n",
        "    s = socket.socket(socket.AF_INET, socket.SOCK_STREAM)\n",
        "    s.connect((pool_ip, pool_port))\n",
        "\n",
        "    q = Queue()\n",
        "    proc = Process(target=worker, args=(q, s))\n",
        "    proc.daemon = True\n",
        "    proc.start()\n",
        "\n",
        "    login = {\n",
        "        'method': 'login',\n",
        "        'params': {\n",
        "            'login': wallet_address,\n",
        "            'pass': pool_pass,\n",
        "            'rigid': '',\n",
        "            'agent': 'stratum-miner-py/0.1'\n",
        "        },\n",
        "        'id':1\n",
        "    }\n",
        "    print('Logging into pool: {}:{}'.format(pool_host, pool_port))\n",
        "    print('Using NiceHash mode: {}'.format(nicehash))\n",
        "    s.sendall(str(json.dumps(login)+'\\n').encode('utf-8'))\n",
        "\n",
        "    try:\n",
        "        while 1:\n",
        "            line = s.makefile().readline()\n",
        "            r = json.loads(line)\n",
        "            error = r.get('error')\n",
        "            result = r.get('result')\n",
        "            method = r.get('method')\n",
        "            params = r.get('params')\n",
        "            if error:\n",
        "                print('Error: {}'.format(error))\n",
        "                continue\n",
        "            if result and result.get('status'):\n",
        "                print('Status: {}'.format(result.get('status')))\n",
        "            if result and result.get('job'):\n",
        "                login_id = result.get('id')\n",
        "                job = result.get('job')\n",
        "                job['login_id'] = login_id\n",
        "                q.put(job)\n",
        "            elif method and method == 'job' and len(login_id):\n",
        "                q.put(params)\n",
        "    except KeyboardInterrupt:\n",
        "        print('{}Exiting'.format(os.linesep))\n",
        "        proc.terminate()\n",
        "        s.close()\n",
        "        sys.exit(0)\n",
        "\n",
        "\n",
        "def pack_nonce(blob, nonce):\n",
        "    b = binascii.unhexlify(blob)\n",
        "    bin = struct.pack('39B', *bytearray(b[:39]))\n",
        "    if nicehash:\n",
        "        bin += struct.pack('I', nonce & 0x00ffffff)[:3]\n",
        "        bin += struct.pack('{}B'.format(len(b)-42), *bytearray(b[42:]))\n",
        "    else:\n",
        "        bin += struct.pack('I', nonce)\n",
        "        bin += struct.pack('{}B'.format(len(b)-43), *bytearray(b[43:]))\n",
        "    return bin\n",
        "\n",
        "\n",
        "def worker(q, s):\n",
        "    started = time.time()\n",
        "    hash_count = 0\n",
        "\n",
        "    while 1:\n",
        "        job = q.get()\n",
        "        if job.get('login_id'):\n",
        "            login_id = job.get('login_id')\n",
        "            print('Login ID: {}'.format(login_id))\n",
        "        blob = job.get('blob')\n",
        "        target = job.get('target')\n",
        "        job_id = job.get('job_id')\n",
        "        height = job.get('height')\n",
        "        block_major = int(blob[:2], 16)\n",
        "        cnv = 0\n",
        "        if block_major >= 7:\n",
        "            cnv = block_major - 6\n",
        "        if cnv > 5:\n",
        "            seed_hash = binascii.unhexlify(job.get('seed_hash'))\n",
        "            print('New job with target: {}, RandomX, height: {}'.format(target, height))\n",
        "        else:\n",
        "            print('New job with target: {}, CNv{}, height: {}'.format(target, cnv, height))\n",
        "        target = struct.unpack('I', binascii.unhexlify(target))[0]\n",
        "        if target >> 32 == 0:\n",
        "            target = int(0xFFFFFFFFFFFFFFFF / int(0xFFFFFFFF / target))\n",
        "        nonce = 1\n",
        "\n",
        "        while 1:\n",
        "            bin = pack_nonce(blob, nonce)\n",
        "            if cnv > 5:\n",
        "                hash = pyrx.get_rx_hash(bin, seed_hash, height)\n",
        "            else:\n",
        "                hash = pycryptonight.cn_slow_hash(bin, cnv, 0, height)\n",
        "            hash_count += 1\n",
        "            sys.stdout.write('.')\n",
        "            sys.stdout.flush()\n",
        "            hex_hash = binascii.hexlify(hash).decode()\n",
        "            r64 = struct.unpack('Q', hash[24:])[0]\n",
        "            if r64 < target:\n",
        "                elapsed = time.time() - started\n",
        "                hr = int(hash_count / elapsed)\n",
        "                print('{}Hashrate: {} H/s'.format(os.linesep, hr))\n",
        "                if nicehash:\n",
        "                    nonce = struct.unpack('I', bin[39:43])[0]\n",
        "                submit = {\n",
        "                    'method':'submit',\n",
        "                    'params': {\n",
        "                        'id': login_id,\n",
        "                        'job_id': job_id,\n",
        "                        'nonce': binascii.hexlify(struct.pack('<I', nonce)).decode(),\n",
        "                        'result': hex_hash\n",
        "                    },\n",
        "                    'id':1\n",
        "                }\n",
        "                print('Submitting hash: {}'.format(hex_hash))\n",
        "                s.sendall(str(json.dumps(submit)+'\\n').encode('utf-8'))\n",
        "                select.select([s], [], [], 3)\n",
        "                if not q.empty():\n",
        "                    break\n",
        "            nonce += 1\n",
        "\n",
        "if __name__ == '__main__':\n",
        "    parser = argparse.ArgumentParser()\n",
        "    parser.add_argument('--nicehash', action='store_true', help='NiceHash mode')\n",
        "    parser.add_argument('--host', action='store', help='Pool host')\n",
        "    parser.add_argument('--port', action='store', help='Pool port')\n",
        "    args = parser.parse_args()\n",
        "    if args.nicehash:\n",
        "        nicehash = True\n",
        "    if args.host:\n",
        "        pool_host = args.host\n",
        "    if args.port:\n",
        "        pool_port = int(args.port)\n",
        "    main()"
      ]
    }
  ],
  "metadata": {
    "colab": {
      "provenance": [],
      "include_colab_link": true
    }
  },
  "nbformat": 4,
  "nbformat_minor": 5
}